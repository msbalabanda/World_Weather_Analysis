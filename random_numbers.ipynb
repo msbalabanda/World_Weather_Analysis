{
 "cells": [
  {
   "cell_type": "code",
   "execution_count": 3,
   "id": "f84388e0",
   "metadata": {},
   "outputs": [],
   "source": [
    "# Import the random module.\n",
    "import random"
   ]
  },
  {
   "cell_type": "code",
   "execution_count": 5,
   "id": "7321b1e2",
   "metadata": {},
   "outputs": [
    {
     "data": {
      "text/plain": [
       "-58"
      ]
     },
     "execution_count": 5,
     "metadata": {},
     "output_type": "execute_result"
    }
   ],
   "source": [
    "random.randint(-90, 90)"
   ]
  },
  {
   "cell_type": "code",
   "execution_count": 6,
   "id": "249045fb",
   "metadata": {},
   "outputs": [
    {
     "data": {
      "text/plain": [
       "0.6046461201519299"
      ]
     },
     "execution_count": 6,
     "metadata": {},
     "output_type": "execute_result"
    }
   ],
   "source": [
    "random.random()"
   ]
  },
  {
   "cell_type": "code",
   "execution_count": 7,
   "id": "ac7409a7",
   "metadata": {},
   "outputs": [],
   "source": [
    "x = 1\n",
    "latitudes = []\n",
    "while x < 11:\n",
    "    random_lat = random.randint(-90, 89) + random.random()\n",
    "    latitudes.append(random_lat)\n",
    "    x += 1"
   ]
  },
  {
   "cell_type": "code",
   "execution_count": 8,
   "id": "b88d4744",
   "metadata": {},
   "outputs": [
    {
     "data": {
      "text/plain": [
       "[-17.528439221592294,\n",
       " -61.34033726847362,\n",
       " 47.10372130699458,\n",
       " 3.374900912899243,\n",
       " -65.88507755860185,\n",
       " 72.72752024926848,\n",
       " 71.50279662680585,\n",
       " 40.77440779202062,\n",
       " -13.741081557795017,\n",
       " -37.716314402671095]"
      ]
     },
     "execution_count": 8,
     "metadata": {},
     "output_type": "execute_result"
    }
   ],
   "source": [
    "latitudes"
   ]
  },
  {
   "cell_type": "code",
   "execution_count": 9,
   "id": "872a8543",
   "metadata": {},
   "outputs": [
    {
     "data": {
      "text/plain": [
       "-59"
      ]
     },
     "execution_count": 9,
     "metadata": {},
     "output_type": "execute_result"
    }
   ],
   "source": [
    " random.randrange(-90, 90, step=1)"
   ]
  },
  {
   "cell_type": "code",
   "execution_count": 13,
   "id": "40d96db1",
   "metadata": {},
   "outputs": [
    {
     "data": {
      "text/plain": [
       "-54"
      ]
     },
     "execution_count": 13,
     "metadata": {},
     "output_type": "execute_result"
    }
   ],
   "source": [
    " random.randrange(-90, 90, step=3)"
   ]
  },
  {
   "cell_type": "code",
   "execution_count": 14,
   "id": "b6b1b6c3",
   "metadata": {},
   "outputs": [
    {
     "data": {
      "text/plain": [
       "-47.391675314124214"
      ]
     },
     "execution_count": 14,
     "metadata": {},
     "output_type": "execute_result"
    }
   ],
   "source": [
    "random.uniform(-90, 90)"
   ]
  },
  {
   "cell_type": "code",
   "execution_count": 15,
   "id": "63f2e30a",
   "metadata": {},
   "outputs": [],
   "source": [
    "# Import the NumPy module.\n",
    "import numpy as np"
   ]
  },
  {
   "cell_type": "code",
   "execution_count": 16,
   "id": "a07f1887",
   "metadata": {},
   "outputs": [
    {
     "data": {
      "text/plain": [
       "23.25717758459497"
      ]
     },
     "execution_count": 16,
     "metadata": {},
     "output_type": "execute_result"
    }
   ],
   "source": [
    "np.random.uniform(-90.000, 90.000)"
   ]
  },
  {
   "cell_type": "code",
   "execution_count": 17,
   "id": "76896143",
   "metadata": {},
   "outputs": [
    {
     "data": {
      "text/plain": [
       "-5.3742188356021785"
      ]
     },
     "execution_count": 17,
     "metadata": {},
     "output_type": "execute_result"
    }
   ],
   "source": [
    "#Option 2 format for using the uniform funtion\n",
    "np.random.uniform(low=-90, high=90)"
   ]
  },
  {
   "cell_type": "code",
   "execution_count": 18,
   "id": "1b49fe49",
   "metadata": {},
   "outputs": [
    {
     "data": {
      "text/plain": [
       "array([-33.91110514,  11.74331195,  22.50637166,  15.5114594 ,\n",
       "        70.9954154 , -88.68516334, -23.98550208, -72.48486642,\n",
       "       -44.06707418,  29.86723698, -86.2169266 ,  -2.92760764,\n",
       "       -69.14670073, -38.59793398, -13.71527028, -54.22074383,\n",
       "        12.57647179,  11.71007389,  25.51613467, -16.64212262,\n",
       "       -34.69431577, -17.0322691 , -61.92624293,  40.59671165,\n",
       "       -61.16856312, -34.80856837,  12.84027054, -85.82314954,\n",
       "        55.75592136,  -8.24095495,  77.81377203, -63.5316064 ,\n",
       "        54.57483525,  42.2046941 ,  -5.61036549,  61.69235551,\n",
       "         1.92224653,  31.72359823,  51.90362517, -23.77287957,\n",
       "        46.10055964,  10.6945749 , -15.66970501,   1.78433733,\n",
       "        43.32161272,  66.79263515,   2.55877072, -71.72898641,\n",
       "        15.48617526,  -5.97776587])"
      ]
     },
     "execution_count": 18,
     "metadata": {},
     "output_type": "execute_result"
    }
   ],
   "source": [
    "np.random.uniform(-90.000, 90.000, size=50)"
   ]
  },
  {
   "cell_type": "code",
   "execution_count": 19,
   "id": "6a989174",
   "metadata": {},
   "outputs": [],
   "source": [
    "# Import timeit to test how long a code will run for\n",
    "import timeit"
   ]
  },
  {
   "cell_type": "code",
   "execution_count": 20,
   "id": "c5b27325",
   "metadata": {},
   "outputs": [
    {
     "name": "stdout",
     "output_type": "stream",
     "text": [
      "15.4 µs ± 69.8 ns per loop (mean ± std. dev. of 7 runs, 100000 loops each)\n"
     ]
    }
   ],
   "source": [
    "%timeit np.random.uniform(-90.000, 90.000, size=1500)"
   ]
  },
  {
   "cell_type": "code",
   "execution_count": 21,
   "id": "5835b3c9",
   "metadata": {},
   "outputs": [
    {
     "name": "stdout",
     "output_type": "stream",
     "text": [
      "1.41 ms ± 5.49 µs per loop (mean ± std. dev. of 7 runs, 1000 loops each)\n"
     ]
    }
   ],
   "source": [
    "def latitudes(size):\n",
    "    latitudes = []\n",
    "    x = 0\n",
    "    while x < (size):\n",
    "        random_lat = random.randint(-90, 90) + random.random()\n",
    "        latitudes.append(random_lat)\n",
    "        x += 1\n",
    "    return latitudes\n",
    "# Call the function with 1500.\n",
    "%timeit latitudes(1500)"
   ]
  },
  {
   "cell_type": "code",
   "execution_count": null,
   "id": "bef410dc",
   "metadata": {},
   "outputs": [],
   "source": []
  }
 ],
 "metadata": {
  "kernelspec": {
   "display_name": "PythonData",
   "language": "python",
   "name": "pythondata"
  },
  "language_info": {
   "codemirror_mode": {
    "name": "ipython",
    "version": 3
   },
   "file_extension": ".py",
   "mimetype": "text/x-python",
   "name": "python",
   "nbconvert_exporter": "python",
   "pygments_lexer": "ipython3",
   "version": "3.7.10"
  }
 },
 "nbformat": 4,
 "nbformat_minor": 5
}
